{
 "cells": [
  {
   "cell_type": "code",
   "execution_count": 1,
   "metadata": {
    "colab": {
     "base_uri": "https://localhost:8080/",
     "height": 34
    },
    "colab_type": "code",
    "executionInfo": {
     "elapsed": 6040,
     "status": "ok",
     "timestamp": 1593466441674,
     "user": {
      "displayName": "DIVYANSHU BHAIK",
      "photoUrl": "https://lh3.googleusercontent.com/a-/AOh14Gi1vml2D36-XRNdiec3_IPIhcoGFtn36xsXJyiN=s64",
      "userId": "01508561723939667345"
     },
     "user_tz": -330
    },
    "id": "31tV5_CmiR9d",
    "outputId": "66609ea6-307a-4c14-9d6f-78d4a41f5d2b",
    "scrolled": true
   },
   "outputs": [
    {
     "name": "stdout",
     "output_type": "stream",
     "text": [
      "Requirement already satisfied: scikit-learn in /home/loireman/anaconda3/envs/env_lungcancer/lib/python3.6/site-packages (0.24.2)\n",
      "Requirement already satisfied: numpy>=1.13.3 in /home/loireman/anaconda3/envs/env_lungcancer/lib/python3.6/site-packages (from scikit-learn) (1.19.5)\n",
      "Requirement already satisfied: joblib>=0.11 in /home/loireman/anaconda3/envs/env_lungcancer/lib/python3.6/site-packages (from scikit-learn) (1.1.1)\n",
      "Requirement already satisfied: scipy>=0.19.1 in /home/loireman/anaconda3/envs/env_lungcancer/lib/python3.6/site-packages (from scikit-learn) (1.5.4)\n",
      "Requirement already satisfied: threadpoolctl>=2.0.0 in /home/loireman/anaconda3/envs/env_lungcancer/lib/python3.6/site-packages (from scikit-learn) (3.1.0)\n",
      "Requirement already satisfied: scikit-image in /home/loireman/anaconda3/envs/env_lungcancer/lib/python3.6/site-packages (0.17.2)\n",
      "Requirement already satisfied: networkx>=2.0 in /home/loireman/anaconda3/envs/env_lungcancer/lib/python3.6/site-packages (from scikit-image) (2.5.1)\n",
      "Requirement already satisfied: matplotlib!=3.0.0,>=2.0.0 in /home/loireman/anaconda3/envs/env_lungcancer/lib/python3.6/site-packages (from scikit-image) (3.3.4)\n",
      "Requirement already satisfied: scipy>=1.0.1 in /home/loireman/anaconda3/envs/env_lungcancer/lib/python3.6/site-packages (from scikit-image) (1.5.4)\n",
      "Requirement already satisfied: numpy>=1.15.1 in /home/loireman/anaconda3/envs/env_lungcancer/lib/python3.6/site-packages (from scikit-image) (1.19.5)\n",
      "Requirement already satisfied: pillow!=7.1.0,!=7.1.1,>=4.3.0 in /home/loireman/anaconda3/envs/env_lungcancer/lib/python3.6/site-packages (from scikit-image) (8.4.0)\n",
      "Requirement already satisfied: PyWavelets>=1.1.1 in /home/loireman/anaconda3/envs/env_lungcancer/lib/python3.6/site-packages (from scikit-image) (1.1.1)\n",
      "Requirement already satisfied: tifffile>=2019.7.26 in /home/loireman/anaconda3/envs/env_lungcancer/lib/python3.6/site-packages (from scikit-image) (2020.9.3)\n",
      "Requirement already satisfied: imageio>=2.3.0 in /home/loireman/anaconda3/envs/env_lungcancer/lib/python3.6/site-packages (from scikit-image) (2.15.0)\n",
      "Requirement already satisfied: python-dateutil>=2.1 in /home/loireman/anaconda3/envs/env_lungcancer/lib/python3.6/site-packages (from matplotlib!=3.0.0,>=2.0.0->scikit-image) (2.8.2)\n",
      "Requirement already satisfied: pyparsing!=2.0.4,!=2.1.2,!=2.1.6,>=2.0.3 in /home/loireman/anaconda3/envs/env_lungcancer/lib/python3.6/site-packages (from matplotlib!=3.0.0,>=2.0.0->scikit-image) (3.0.4)\n",
      "Requirement already satisfied: cycler>=0.10 in /home/loireman/anaconda3/envs/env_lungcancer/lib/python3.6/site-packages (from matplotlib!=3.0.0,>=2.0.0->scikit-image) (0.11.0)\n",
      "Requirement already satisfied: kiwisolver>=1.0.1 in /home/loireman/anaconda3/envs/env_lungcancer/lib/python3.6/site-packages (from matplotlib!=3.0.0,>=2.0.0->scikit-image) (1.3.1)\n",
      "Requirement already satisfied: decorator<5,>=4.3 in /home/loireman/anaconda3/envs/env_lungcancer/lib/python3.6/site-packages (from networkx>=2.0->scikit-image) (4.4.2)\n",
      "Requirement already satisfied: six>=1.5 in /home/loireman/anaconda3/envs/env_lungcancer/lib/python3.6/site-packages (from python-dateutil>=2.1->matplotlib!=3.0.0,>=2.0.0->scikit-image) (1.15.0)\n",
      "Requirement already satisfied: scipy in /home/loireman/anaconda3/envs/env_lungcancer/lib/python3.6/site-packages (1.5.4)\n",
      "Requirement already satisfied: numpy>=1.14.5 in /home/loireman/anaconda3/envs/env_lungcancer/lib/python3.6/site-packages (from scipy) (1.19.5)\n",
      "^C\n",
      "\u001b[31mERROR: Operation cancelled by user\u001b[0m\n",
      "Requirement already satisfied: pydicom in /home/loireman/anaconda3/envs/env_lungcancer/lib/python3.6/site-packages (2.3.1)\n",
      "Requirement already satisfied: matplotlib in /home/loireman/anaconda3/envs/env_lungcancer/lib/python3.6/site-packages (3.3.4)\n",
      "Requirement already satisfied: python-dateutil>=2.1 in /home/loireman/anaconda3/envs/env_lungcancer/lib/python3.6/site-packages (from matplotlib) (2.8.2)\n",
      "Requirement already satisfied: numpy>=1.15 in /home/loireman/anaconda3/envs/env_lungcancer/lib/python3.6/site-packages (from matplotlib) (1.19.5)\n",
      "Requirement already satisfied: cycler>=0.10 in /home/loireman/anaconda3/envs/env_lungcancer/lib/python3.6/site-packages (from matplotlib) (0.11.0)\n",
      "Requirement already satisfied: pyparsing!=2.0.4,!=2.1.2,!=2.1.6,>=2.0.3 in /home/loireman/anaconda3/envs/env_lungcancer/lib/python3.6/site-packages (from matplotlib) (3.0.4)\n",
      "Requirement already satisfied: pillow>=6.2.0 in /home/loireman/anaconda3/envs/env_lungcancer/lib/python3.6/site-packages (from matplotlib) (8.4.0)\n",
      "Requirement already satisfied: kiwisolver>=1.0.1 in /home/loireman/anaconda3/envs/env_lungcancer/lib/python3.6/site-packages (from matplotlib) (1.3.1)\n",
      "Requirement already satisfied: six>=1.5 in /home/loireman/anaconda3/envs/env_lungcancer/lib/python3.6/site-packages (from python-dateutil>=2.1->matplotlib) (1.15.0)\n",
      "Requirement already satisfied: pandas in /home/loireman/anaconda3/envs/env_lungcancer/lib/python3.6/site-packages (1.1.5)\n",
      "Requirement already satisfied: pytz>=2017.2 in /home/loireman/anaconda3/envs/env_lungcancer/lib/python3.6/site-packages (from pandas) (2023.3)\n",
      "Requirement already satisfied: python-dateutil>=2.7.3 in /home/loireman/anaconda3/envs/env_lungcancer/lib/python3.6/site-packages (from pandas) (2.8.2)\n",
      "Requirement already satisfied: numpy>=1.15.4 in /home/loireman/anaconda3/envs/env_lungcancer/lib/python3.6/site-packages (from pandas) (1.19.5)\n",
      "Requirement already satisfied: six>=1.5 in /home/loireman/anaconda3/envs/env_lungcancer/lib/python3.6/site-packages (from python-dateutil>=2.7.3->pandas) (1.15.0)\n",
      "Requirement already satisfied: tensorflow==2.6.2 in /home/loireman/anaconda3/envs/env_lungcancer/lib/python3.6/site-packages (2.6.2)\n",
      "Requirement already satisfied: flatbuffers~=1.12.0 in /home/loireman/anaconda3/envs/env_lungcancer/lib/python3.6/site-packages (from tensorflow==2.6.2) (1.12)\n",
      "Requirement already satisfied: google-pasta~=0.2 in /home/loireman/anaconda3/envs/env_lungcancer/lib/python3.6/site-packages (from tensorflow==2.6.2) (0.2.0)\n",
      "Requirement already satisfied: termcolor~=1.1.0 in /home/loireman/anaconda3/envs/env_lungcancer/lib/python3.6/site-packages (from tensorflow==2.6.2) (1.1.0)\n",
      "Requirement already satisfied: wheel~=0.35 in /home/loireman/anaconda3/envs/env_lungcancer/lib/python3.6/site-packages (from tensorflow==2.6.2) (0.37.1)\n",
      "Requirement already satisfied: astunparse~=1.6.3 in /home/loireman/anaconda3/envs/env_lungcancer/lib/python3.6/site-packages (from tensorflow==2.6.2) (1.6.3)\n",
      "Requirement already satisfied: absl-py~=0.10 in /home/loireman/anaconda3/envs/env_lungcancer/lib/python3.6/site-packages (from tensorflow==2.6.2) (0.15.0)\n",
      "Requirement already satisfied: typing-extensions~=3.7.4 in /home/loireman/anaconda3/envs/env_lungcancer/lib/python3.6/site-packages (from tensorflow==2.6.2) (3.7.4.3)\n",
      "Requirement already satisfied: gast==0.4.0 in /home/loireman/anaconda3/envs/env_lungcancer/lib/python3.6/site-packages (from tensorflow==2.6.2) (0.4.0)\n",
      "Requirement already satisfied: tensorflow-estimator<2.7,>=2.6.0 in /home/loireman/anaconda3/envs/env_lungcancer/lib/python3.6/site-packages (from tensorflow==2.6.2) (2.6.0)\n",
      "Requirement already satisfied: keras<2.7,>=2.6.0 in /home/loireman/anaconda3/envs/env_lungcancer/lib/python3.6/site-packages (from tensorflow==2.6.2) (2.6.0)\n",
      "Requirement already satisfied: h5py~=3.1.0 in /home/loireman/anaconda3/envs/env_lungcancer/lib/python3.6/site-packages (from tensorflow==2.6.2) (3.1.0)\n",
      "Requirement already satisfied: protobuf>=3.9.2 in /home/loireman/anaconda3/envs/env_lungcancer/lib/python3.6/site-packages (from tensorflow==2.6.2) (3.19.6)\n",
      "Requirement already satisfied: six~=1.15.0 in /home/loireman/anaconda3/envs/env_lungcancer/lib/python3.6/site-packages (from tensorflow==2.6.2) (1.15.0)\n",
      "Requirement already satisfied: clang~=5.0 in /home/loireman/anaconda3/envs/env_lungcancer/lib/python3.6/site-packages (from tensorflow==2.6.2) (5.0)\n",
      "Requirement already satisfied: wrapt~=1.12.1 in /home/loireman/anaconda3/envs/env_lungcancer/lib/python3.6/site-packages (from tensorflow==2.6.2) (1.12.1)\n",
      "Requirement already satisfied: tensorboard<2.7,>=2.6.0 in /home/loireman/anaconda3/envs/env_lungcancer/lib/python3.6/site-packages (from tensorflow==2.6.2) (2.6.0)\n",
      "Requirement already satisfied: grpcio<2.0,>=1.37.0 in /home/loireman/anaconda3/envs/env_lungcancer/lib/python3.6/site-packages (from tensorflow==2.6.2) (1.48.2)\n",
      "Requirement already satisfied: opt-einsum~=3.3.0 in /home/loireman/anaconda3/envs/env_lungcancer/lib/python3.6/site-packages (from tensorflow==2.6.2) (3.3.0)\n",
      "Requirement already satisfied: keras-preprocessing~=1.1.2 in /home/loireman/anaconda3/envs/env_lungcancer/lib/python3.6/site-packages (from tensorflow==2.6.2) (1.1.2)\n",
      "Requirement already satisfied: numpy~=1.19.2 in /home/loireman/anaconda3/envs/env_lungcancer/lib/python3.6/site-packages (from tensorflow==2.6.2) (1.19.5)\n"
     ]
    },
    {
     "name": "stdout",
     "output_type": "stream",
     "text": [
      "Requirement already satisfied: cached-property in /home/loireman/anaconda3/envs/env_lungcancer/lib/python3.6/site-packages (from h5py~=3.1.0->tensorflow==2.6.2) (1.5.2)\n",
      "Requirement already satisfied: google-auth-oauthlib<0.5,>=0.4.1 in /home/loireman/anaconda3/envs/env_lungcancer/lib/python3.6/site-packages (from tensorboard<2.7,>=2.6.0->tensorflow==2.6.2) (0.4.6)\n",
      "Requirement already satisfied: setuptools>=41.0.0 in /home/loireman/anaconda3/envs/env_lungcancer/lib/python3.6/site-packages (from tensorboard<2.7,>=2.6.0->tensorflow==2.6.2) (58.0.4)\n",
      "Requirement already satisfied: werkzeug>=0.11.15 in /home/loireman/anaconda3/envs/env_lungcancer/lib/python3.6/site-packages (from tensorboard<2.7,>=2.6.0->tensorflow==2.6.2) (2.0.3)\n",
      "Requirement already satisfied: tensorboard-plugin-wit>=1.6.0 in /home/loireman/anaconda3/envs/env_lungcancer/lib/python3.6/site-packages (from tensorboard<2.7,>=2.6.0->tensorflow==2.6.2) (1.8.1)\n",
      "Requirement already satisfied: requests<3,>=2.21.0 in /home/loireman/anaconda3/envs/env_lungcancer/lib/python3.6/site-packages (from tensorboard<2.7,>=2.6.0->tensorflow==2.6.2) (2.27.1)\n",
      "Requirement already satisfied: tensorboard-data-server<0.7.0,>=0.6.0 in /home/loireman/anaconda3/envs/env_lungcancer/lib/python3.6/site-packages (from tensorboard<2.7,>=2.6.0->tensorflow==2.6.2) (0.6.1)\n",
      "Requirement already satisfied: google-auth<2,>=1.6.3 in /home/loireman/anaconda3/envs/env_lungcancer/lib/python3.6/site-packages (from tensorboard<2.7,>=2.6.0->tensorflow==2.6.2) (1.35.0)\n",
      "Requirement already satisfied: markdown>=2.6.8 in /home/loireman/anaconda3/envs/env_lungcancer/lib/python3.6/site-packages (from tensorboard<2.7,>=2.6.0->tensorflow==2.6.2) (3.3.7)\n",
      "Requirement already satisfied: pyasn1-modules>=0.2.1 in /home/loireman/anaconda3/envs/env_lungcancer/lib/python3.6/site-packages (from google-auth<2,>=1.6.3->tensorboard<2.7,>=2.6.0->tensorflow==2.6.2) (0.2.8)\n",
      "Requirement already satisfied: rsa<5,>=3.1.4 in /home/loireman/anaconda3/envs/env_lungcancer/lib/python3.6/site-packages (from google-auth<2,>=1.6.3->tensorboard<2.7,>=2.6.0->tensorflow==2.6.2) (4.9)\n",
      "Requirement already satisfied: cachetools<5.0,>=2.0.0 in /home/loireman/anaconda3/envs/env_lungcancer/lib/python3.6/site-packages (from google-auth<2,>=1.6.3->tensorboard<2.7,>=2.6.0->tensorflow==2.6.2) (4.2.4)\n",
      "Requirement already satisfied: requests-oauthlib>=0.7.0 in /home/loireman/anaconda3/envs/env_lungcancer/lib/python3.6/site-packages (from google-auth-oauthlib<0.5,>=0.4.1->tensorboard<2.7,>=2.6.0->tensorflow==2.6.2) (1.3.1)\n",
      "Requirement already satisfied: importlib-metadata>=4.4 in /home/loireman/anaconda3/envs/env_lungcancer/lib/python3.6/site-packages (from markdown>=2.6.8->tensorboard<2.7,>=2.6.0->tensorflow==2.6.2) (4.8.3)\n",
      "Requirement already satisfied: zipp>=0.5 in /home/loireman/anaconda3/envs/env_lungcancer/lib/python3.6/site-packages (from importlib-metadata>=4.4->markdown>=2.6.8->tensorboard<2.7,>=2.6.0->tensorflow==2.6.2) (3.6.0)\n",
      "Requirement already satisfied: pyasn1<0.5.0,>=0.4.6 in /home/loireman/anaconda3/envs/env_lungcancer/lib/python3.6/site-packages (from pyasn1-modules>=0.2.1->google-auth<2,>=1.6.3->tensorboard<2.7,>=2.6.0->tensorflow==2.6.2) (0.4.8)\n",
      "Requirement already satisfied: charset-normalizer~=2.0.0 in /home/loireman/anaconda3/envs/env_lungcancer/lib/python3.6/site-packages (from requests<3,>=2.21.0->tensorboard<2.7,>=2.6.0->tensorflow==2.6.2) (2.0.12)\n",
      "Requirement already satisfied: urllib3<1.27,>=1.21.1 in /home/loireman/anaconda3/envs/env_lungcancer/lib/python3.6/site-packages (from requests<3,>=2.21.0->tensorboard<2.7,>=2.6.0->tensorflow==2.6.2) (1.26.15)\n",
      "Requirement already satisfied: idna<4,>=2.5 in /home/loireman/anaconda3/envs/env_lungcancer/lib/python3.6/site-packages (from requests<3,>=2.21.0->tensorboard<2.7,>=2.6.0->tensorflow==2.6.2) (3.4)\n",
      "Requirement already satisfied: certifi>=2017.4.17 in /home/loireman/anaconda3/envs/env_lungcancer/lib/python3.6/site-packages (from requests<3,>=2.21.0->tensorboard<2.7,>=2.6.0->tensorflow==2.6.2) (2021.5.30)\n",
      "Requirement already satisfied: oauthlib>=3.0.0 in /home/loireman/anaconda3/envs/env_lungcancer/lib/python3.6/site-packages (from requests-oauthlib>=0.7.0->google-auth-oauthlib<0.5,>=0.4.1->tensorboard<2.7,>=2.6.0->tensorflow==2.6.2) (3.2.2)\n",
      "Requirement already satisfied: dataclasses in /home/loireman/anaconda3/envs/env_lungcancer/lib/python3.6/site-packages (from werkzeug>=0.11.15->tensorboard<2.7,>=2.6.0->tensorflow==2.6.2) (0.8)\n",
      "Requirement already satisfied: opencv-python==4.5.4.58 in /home/loireman/anaconda3/envs/env_lungcancer/lib/python3.6/site-packages (4.5.4.58)\n",
      "Requirement already satisfied: numpy>=1.13.3 in /home/loireman/anaconda3/envs/env_lungcancer/lib/python3.6/site-packages (from opencv-python==4.5.4.58) (1.19.5)\n"
     ]
    }
   ],
   "source": [
    "!pip install scikit-learn\n",
    "!pip install scikit-image\n",
    "!pip install scipy\n",
    "!pip install pydicom\n",
    "!pip install matplotlib\n",
    "!pip install pandas\n",
    "!pip install tensorflow==2.6.2\n",
    "!pip install opencv-python==4.5.4.58"
   ]
  },
  {
   "cell_type": "code",
   "execution_count": null,
   "metadata": {},
   "outputs": [],
   "source": [
    "import tensorflow as tf\n",
    "print(\"Num GPUs Available: \", len(tf.config.list_physical_devices('GPU')))"
   ]
  },
  {
   "cell_type": "code",
   "execution_count": null,
   "metadata": {
    "colab": {},
    "colab_type": "code",
    "executionInfo": {
     "elapsed": 2269,
     "status": "ok",
     "timestamp": 1593467549038,
     "user": {
      "displayName": "DIVYANSHU BHAIK",
      "photoUrl": "https://lh3.googleusercontent.com/a-/AOh14Gi1vml2D36-XRNdiec3_IPIhcoGFtn36xsXJyiN=s64",
      "userId": "01508561723939667345"
     },
     "user_tz": -330
    },
    "id": "le4wFhGSiE8b"
   },
   "outputs": [],
   "source": [
    "%matplotlib inline\n",
    "import numpy as np # linear algebra\n",
    "import pandas as pd # data processing, CSV file I/O (e.g. pd.read_csv)\n",
    "import pydicom as dicom\n",
    "import os\n",
    "import cv2\n",
    "import scipy.ndimage\n",
    "import matplotlib.pyplot as plt\n",
    "from skimage import measure, morphology, segmentation\n",
    "from mpl_toolkits.mplot3d.art3d import Poly3DCollection\n",
    "import scipy.ndimage as ndimage"
   ]
  },
  {
   "cell_type": "markdown",
   "metadata": {},
   "source": [
    "Ми встановлюємо змінну `INPUT_FOLDER` на шлях до каталогу `\"../Dataset/lidc-data/DSB3/stage1\"`. Також використовуємо метод os.listdir для отримання списку всіх файлів і каталогів у `INPUT_FOLDER`. Сортуємо список імен файлів за алфавітом за допомогою методу sort().\n",
    "Друкуємо кількість елементів у списку пацієнтів за допомогою функції \n",
    "len."
   ]
  },
  {
   "cell_type": "code",
   "execution_count": null,
   "metadata": {
    "colab": {
     "base_uri": "https://localhost:8080/",
     "height": 34
    },
    "colab_type": "code",
    "executionInfo": {
     "elapsed": 11590,
     "status": "ok",
     "timestamp": 1593466548299,
     "user": {
      "displayName": "DIVYANSHU BHAIK",
      "photoUrl": "https://lh3.googleusercontent.com/a-/AOh14Gi1vml2D36-XRNdiec3_IPIhcoGFtn36xsXJyiN=s64",
      "userId": "01508561723939667345"
     },
     "user_tz": -330
    },
    "id": "hSDgUzhQiE8h",
    "outputId": "748eb325-36c7-4e08-c27f-498fa1360e4f"
   },
   "outputs": [],
   "source": [
    "# Some constants \n",
    "INPUT_FOLDER = '../Dataset/lidc-data/patients'\n",
    "patients = os.listdir(INPUT_FOLDER)\n",
    "patients.sort()\n",
    "print(len(patients))\n",
    "#patients.remove('.DS_Store')"
   ]
  },
  {
   "cell_type": "markdown",
   "metadata": {},
   "source": [
    "Створюємо функцію load_scan для завантаження серії зображень `DICOM` із папки, сортуємо їх за номером екземпляра та обчислюємо атрибут товщини фрагмента для кожного зображення."
   ]
  },
  {
   "cell_type": "code",
   "execution_count": null,
   "metadata": {
    "colab": {},
    "colab_type": "code",
    "id": "28PD5XMviE8k"
   },
   "outputs": [],
   "source": [
    "# Load the scans in given folder path\n",
    "def load_scan(path):\n",
    "    ds = []\n",
    "    for s in os.listdir(path):\n",
    "        if( s != '.DS_Store'):\n",
    "            ds.append(s)\n",
    "    slices = [dicom.read_file((path + '/' + s),force = True) for s in ds]\n",
    "    slices.sort(key = lambda x: int(x.InstanceNumber))\n",
    "    try:\n",
    "        slice_thickness = np.abs(slices[0].ImagePositionPatient[2] - slices[1].ImagePositionPatient[2])\n",
    "    except:\n",
    "        slice_thickness = np.abs(slices[0].SliceLocation - slices[1].SliceLocation)\n",
    "        \n",
    "    for s in slices:\n",
    "        s.SliceThickness = slice_thickness\n",
    "        \n",
    "    return slices"
   ]
  },
  {
   "cell_type": "markdown",
   "metadata": {},
   "source": [
    "Ми створюємо функцію яка виконує перетворення піксельних значень зображень `DICOM` в одиниці Хаунсфілда, які є стандартизованою мірою, що використовується в КТ."
   ]
  },
  {
   "cell_type": "code",
   "execution_count": null,
   "metadata": {
    "colab": {},
    "colab_type": "code",
    "id": "T-kwequliE8n"
   },
   "outputs": [],
   "source": [
    "def get_pixels_hu(scans):\n",
    "    image = np.stack([s.pixel_array for s in scans])\n",
    "    # Convert to int16 (from sometimes int16), \n",
    "    # should be possible as values should always be low enough (<32k)\n",
    "    image = image.astype(np.int16)\n",
    "\n",
    "    # Set outside-of-scan pixels to 0\n",
    "    # The intercept is usually -1024, so air is approximately 0\n",
    "    image[image == -2000] = 0\n",
    "    \n",
    "    # Convert to Hounsfield units (HU)\n",
    "    intercept = scans[0].RescaleIntercept\n",
    "    slope = scans[0].RescaleSlope\n",
    "    \n",
    "    if slope != 1:\n",
    "        image = slope * image.astype(np.float64)\n",
    "        image = image.astype(np.int16)\n",
    "        \n",
    "    image += np.int16(intercept)\n",
    "    \n",
    "    return np.array(image, dtype=np.int16)"
   ]
  },
  {
   "cell_type": "markdown",
   "metadata": {},
   "source": [
    "Ми завантажуємо КТ для конкретного пацієнта та візуалізуємо значення одиниць Хаунсфілда на КТ за допомогою гістограми та зрізу двовимірного зображення."
   ]
  },
  {
   "cell_type": "code",
   "execution_count": null,
   "metadata": {
    "colab": {
     "base_uri": "https://localhost:8080/",
     "height": 790
    },
    "colab_type": "code",
    "executionInfo": {
     "elapsed": 1456,
     "status": "ok",
     "timestamp": 1593426402839,
     "user": {
      "displayName": "DIVYANSHU BHAIK",
      "photoUrl": "https://lh3.googleusercontent.com/a-/AOh14Gi1vml2D36-XRNdiec3_IPIhcoGFtn36xsXJyiN=s64",
      "userId": "01508561723939667345"
     },
     "user_tz": -330
    },
    "id": "EfgI3OrHiE8q",
    "outputId": "1ccd7331-fd13-47b2-f2cd-9e68e7813f9b"
   },
   "outputs": [],
   "source": [
    "first_patient = load_scan(INPUT_FOLDER +'/'+ patients[2])\n",
    "first_patient_pixels = get_pixels_hu(first_patient)\n",
    "plt.hist(first_patient_pixels.flatten(), bins=80, color='c')\n",
    "plt.xlabel(\"Hounsfield Units (HU)\")\n",
    "plt.ylabel(\"Frequency\")\n",
    "plt.show()\n",
    "\n",
    "# Show some slice in the middle\n",
    "plt.imshow(first_patient_pixels[80], cmap=plt.cm.gray)\n",
    "plt.show()\n",
    "plt.axis('off')"
   ]
  },
  {
   "cell_type": "markdown",
   "metadata": {
    "colab_type": "text",
    "id": "PEj3I9IViE9N"
   },
   "source": [
    "# Алгоритм вододілу\n"
   ]
  },
  {
   "cell_type": "markdown",
   "metadata": {},
   "source": [
    "Цей код ми використовуємо для завантаженя та попередньої обробки даних КТ пацієнта, потім робимо перетворення значення пікселей одиниці Хаунсфілда."
   ]
  },
  {
   "cell_type": "code",
   "execution_count": null,
   "metadata": {
    "colab": {},
    "colab_type": "code",
    "id": "X-jfxpj7iE9O"
   },
   "outputs": [],
   "source": [
    "test_patient_scans = load_scan(INPUT_FOLDER +'/'+ patients[1])\n",
    "test_patient_images = get_pixels_hu(test_patient_scans)"
   ]
  },
  {
   "cell_type": "markdown",
   "metadata": {},
   "source": [
    "Ми відображаємо зображення яке є 100-м фрагментом з набору даних медичних зображень (який було попередньо завантажено та оброблено) у градаціях сірого."
   ]
  },
  {
   "cell_type": "code",
   "execution_count": null,
   "metadata": {
    "colab": {
     "base_uri": "https://localhost:8080/",
     "height": 286
    },
    "colab_type": "code",
    "executionInfo": {
     "elapsed": 786749,
     "status": "ok",
     "timestamp": 1593358672121,
     "user": {
      "displayName": "DIVYANSHU BHAIK",
      "photoUrl": "https://lh3.googleusercontent.com/a-/AOh14Gi1vml2D36-XRNdiec3_IPIhcoGFtn36xsXJyiN=s64",
      "userId": "01508561723939667345"
     },
     "user_tz": -330
    },
    "id": "Vlyc0cHGiE9R",
    "outputId": "198d459a-ab97-4f46-8f51-036cf5ba75db"
   },
   "outputs": [],
   "source": [
    "print (\"Original Slice\")\n",
    "plt.imshow(test_patient_images[100], cmap='gray')\n",
    "plt.show()"
   ]
  },
  {
   "cell_type": "markdown",
   "metadata": {},
   "source": [
    "Ми використовує цей код який є частиною алгоритму сегментації легень, він використовує перетворення вододілу, щоб відокремити легені від навколишньої тканини на зображеннях КТ."
   ]
  },
  {
   "cell_type": "code",
   "execution_count": null,
   "metadata": {
    "colab": {
     "base_uri": "https://localhost:8080/",
     "height": 823
    },
    "colab_type": "code",
    "executionInfo": {
     "elapsed": 786382,
     "status": "ok",
     "timestamp": 1593358672123,
     "user": {
      "displayName": "DIVYANSHU BHAIK",
      "photoUrl": "https://lh3.googleusercontent.com/a-/AOh14Gi1vml2D36-XRNdiec3_IPIhcoGFtn36xsXJyiN=s64",
      "userId": "01508561723939667345"
     },
     "user_tz": -330
    },
    "id": "luaOKINGiE9U",
    "outputId": "51d6c3f3-2424-4d6e-fcda-15ce24a28a05"
   },
   "outputs": [],
   "source": [
    "def generate_markers(image):\n",
    "    #Creation of the internal Marker\n",
    "    marker_internal = image < -400\n",
    "    marker_internal = segmentation.clear_border(marker_internal)\n",
    "    marker_internal_labels = measure.label(marker_internal)\n",
    "    areas = [r.area for r in measure.regionprops(marker_internal_labels)]\n",
    "    areas.sort()\n",
    "    if len(areas) > 2:\n",
    "        for region in measure.regionprops(marker_internal_labels):\n",
    "            if region.area < areas[-2]:\n",
    "                for coordinates in region.coords:                \n",
    "                       marker_internal_labels[coordinates[0], coordinates[1]] = 0\n",
    "    marker_internal = marker_internal_labels > 0\n",
    "    #Creation of the external Marker\n",
    "    external_a = ndimage.binary_dilation(marker_internal, iterations=10)\n",
    "    external_b = ndimage.binary_dilation(marker_internal, iterations=55)\n",
    "    marker_external = external_b ^ external_a\n",
    "    #Creation of the Watershed Marker matrix\n",
    "    marker_watershed = np.zeros((512, 512), dtype=np.int)\n",
    "    marker_watershed += marker_internal * 255\n",
    "    marker_watershed += marker_external * 128\n",
    "    \n",
    "    return marker_internal, marker_external, marker_watershed\n",
    "\n",
    "#Show some example markers from the middle        \n",
    "test_patient_internal, test_patient_external, test_patient_watershed = generate_markers(test_patient_images[100])\n",
    "print (\"Внутрішній маркер\")\n",
    "plt.imshow(test_patient_internal, cmap='gray')\n",
    "plt.show()\n",
    "print (\"Зовнішній маркер\")\n",
    "plt.imshow(test_patient_external, cmap='gray')\n",
    "plt.show()\n",
    "print (\"Маркер вододілу\")\n",
    "plt.imshow(test_patient_watershed, cmap='gray')\n",
    "plt.show()"
   ]
  },
  {
   "cell_type": "markdown",
   "metadata": {},
   "source": [
    "Ми отримуємо порівняння між вихідним зображенням і обробленим зображенням, створеним за допомогою алгоритму вододілу."
   ]
  },
  {
   "cell_type": "markdown",
   "metadata": {},
   "source": [
    "Ми створюємо функцію `separat_lungs`, яка приймає вхідне зображення та виконує різні методи обробки зображення, щоб відокремити легені від решти зображення. Ми повертаємо  сегментоване зображення легенів, зображення легеневих вузликів, зображення легеневого фільтра, контурне зображення, зображення вододілу, зображення градієнта Собела та зображення маркерів."
   ]
  },
  {
   "cell_type": "code",
   "execution_count": null,
   "metadata": {
    "colab": {
     "base_uri": "https://localhost:8080/",
     "height": 1000
    },
    "colab_type": "code",
    "executionInfo": {
     "elapsed": 796164,
     "status": "ok",
     "timestamp": 1593358682430,
     "user": {
      "displayName": "DIVYANSHU BHAIK",
      "photoUrl": "https://lh3.googleusercontent.com/a-/AOh14Gi1vml2D36-XRNdiec3_IPIhcoGFtn36xsXJyiN=s64",
      "userId": "01508561723939667345"
     },
     "user_tz": -330
    },
    "id": "1tDc7-ZOiE9b",
    "outputId": "f95f446a-9ae7-488a-b204-74d7b9a121ae"
   },
   "outputs": [],
   "source": [
    "def seperate_lungs(image):\n",
    "    #Creation of the markers as shown above:\n",
    "    marker_internal, marker_external, marker_watershed = generate_markers(image)\n",
    "    \n",
    "    #Creation of the Sobel-Gradient\n",
    "    sobel_filtered_dx = ndimage.sobel(image, 1)\n",
    "    sobel_filtered_dy = ndimage.sobel(image, 0)\n",
    "    sobel_gradient = np.hypot(sobel_filtered_dx, sobel_filtered_dy)\n",
    "    sobel_gradient *= 255.0 / np.max(sobel_gradient)\n",
    "    \n",
    "    #Watershed algorithm\n",
    "    watershed = segmentation.watershed(sobel_gradient, marker_watershed)\n",
    "    \n",
    "    #Reducing the image created by the Watershed algorithm to its outline\n",
    "    outline = ndimage.morphological_gradient(watershed, size=(3,3))\n",
    "    outline = outline.astype(bool)\n",
    "    \n",
    "    #Performing Black-Tophat Morphology for reinclusion\n",
    "    #Creation of the disk-kernel and increasing its size a bit\n",
    "    blackhat_struct = [[0, 0, 1, 1, 1, 0, 0],\n",
    "                       [0, 1, 1, 1, 1, 1, 0],\n",
    "                       [1, 1, 1, 1, 1, 1, 1],\n",
    "                       [1, 1, 1, 1, 1, 1, 1],\n",
    "                       [1, 1, 1, 1, 1, 1, 1],\n",
    "                       [0, 1, 1, 1, 1, 1, 0],\n",
    "                       [0, 0, 1, 1, 1, 0, 0]]\n",
    "    \n",
    "    blackhat_struct = ndimage.iterate_structure(blackhat_struct, 8)\n",
    "    #Perform the Black-Hat\n",
    "    outline += ndimage.black_tophat(outline, structure=blackhat_struct)\n",
    "    \n",
    "    #Use the internal marker and the Outline that was just created to generate the lungfilter\n",
    "    lungfilter = np.bitwise_or(marker_internal, outline)\n",
    "    #Close holes in the lungfilter\n",
    "    #fill_holes is not used here, since in some slices the heart would be reincluded by accident\n",
    "    lungfilter = ndimage.morphology.binary_closing(lungfilter, structure=np.ones((7,7)), iterations=3)\n",
    "    \n",
    "    #Apply the lungfilter (note the filtered areas being assigned -2000 HU)\n",
    "    segmented = np.where(lungfilter == 1, image, -2000*np.ones((512, 512)))\n",
    "\n",
    "    #### nodule\n",
    "    lung_nodule_1 = np.bitwise_or(marker_internal, image)\n",
    "    lung_nodule = np.where(lungfilter == 1, lung_nodule_1, np.zeros((512, 512)))\n",
    "\n",
    "    \n",
    "    return segmented, lung_nodule, lungfilter, outline, watershed, sobel_gradient, marker_internal, marker_external, marker_watershed\n",
    "\n",
    "#Some Testcode:\n",
    "test_segmented, lung_nodule, test_lungfilter, test_outline, test_watershed, test_sobel_gradient, test_marker_internal, test_marker_external, test_marker_watershed = seperate_lungs(test_patient_images[100])\n",
    "\n",
    "print (\"Легеневий вузлик\")\n",
    "plt.imshow(lung_nodule, cmap='gray')\n",
    "plt.show()\n",
    "print (\"Градієнт Собеля\")\n",
    "plt.imshow(test_sobel_gradient, cmap='gray')\n",
    "plt.show()\n",
    "print (\"Зображення вододілу\")\n",
    "plt.imshow(test_watershed, cmap='gray')\n",
    "plt.show()\n",
    "print (\"Схема після повторного включення\")\n",
    "plt.imshow(test_outline, cmap='gray')\n",
    "plt.show()\n",
    "print (\"Легеневий фільтр після закриття\")\n",
    "plt.imshow(test_lungfilter, cmap='gray')\n",
    "plt.show()\n",
    "print (\"Сегментована легеня\")\n",
    "plt.imshow(test_segmented, cmap='gray')\n",
    "plt.show()"
   ]
  },
  {
   "cell_type": "markdown",
   "metadata": {},
   "source": [
    "Ми отримуємо порівняння вхідного зображення з отриманим сегментованим зображенням легенів."
   ]
  },
  {
   "cell_type": "code",
   "execution_count": null,
   "metadata": {
    "colab": {
     "base_uri": "https://localhost:8080/",
     "height": 200
    },
    "colab_type": "code",
    "executionInfo": {
     "elapsed": 796656,
     "status": "ok",
     "timestamp": 1593358683544,
     "user": {
      "displayName": "DIVYANSHU BHAIK",
      "photoUrl": "https://lh3.googleusercontent.com/a-/AOh14Gi1vml2D36-XRNdiec3_IPIhcoGFtn36xsXJyiN=s64",
      "userId": "01508561723939667345"
     },
     "user_tz": -330
    },
    "id": "x4gp5OzLiE9e",
    "outputId": "a9a23ab4-591b-4f03-f1fd-88477fbeefcc"
   },
   "outputs": [],
   "source": [
    "plt.subplot(121)\n",
    "plt.imshow(test_patient_images[100],cmap = 'gray')\n",
    "plt.axis('off')\n",
    "plt.subplot(122)\n",
    "plt.imshow(test_segmented,cmap = 'gray')\n",
    "plt.axis('off')"
   ]
  },
  {
   "cell_type": "code",
   "execution_count": null,
   "metadata": {
    "colab": {
     "base_uri": "https://localhost:8080/",
     "height": 34
    },
    "colab_type": "code",
    "executionInfo": {
     "elapsed": 796573,
     "status": "ok",
     "timestamp": 1593358683545,
     "user": {
      "displayName": "DIVYANSHU BHAIK",
      "photoUrl": "https://lh3.googleusercontent.com/a-/AOh14Gi1vml2D36-XRNdiec3_IPIhcoGFtn36xsXJyiN=s64",
      "userId": "01508561723939667345"
     },
     "user_tz": -330
    },
    "id": "hyRpEFXdiE9h",
    "outputId": "30b93fa0-2b3f-4a4b-c5e3-87c3a46bcaf2"
   },
   "outputs": [],
   "source": [
    "test_segmented.shape"
   ]
  },
  {
   "cell_type": "markdown",
   "metadata": {
    "colab_type": "text",
    "id": "ci9pcz2ciE9k"
   },
   "source": [
    "# Підготовка до класифікатора\n"
   ]
  },
  {
   "cell_type": "code",
   "execution_count": null,
   "metadata": {
    "colab": {
     "base_uri": "https://localhost:8080/",
     "height": 225
    },
    "colab_type": "code",
    "executionInfo": {
     "elapsed": 796113,
     "status": "ok",
     "timestamp": 1593358683550,
     "user": {
      "displayName": "DIVYANSHU BHAIK",
      "photoUrl": "https://lh3.googleusercontent.com/a-/AOh14Gi1vml2D36-XRNdiec3_IPIhcoGFtn36xsXJyiN=s64",
      "userId": "01508561723939667345"
     },
     "user_tz": -330
    },
    "id": "OaAJ0dk-iE9l",
    "outputId": "8b972f58-51ea-4e21-dbe0-e52023ffe6c4",
    "scrolled": true
   },
   "outputs": [],
   "source": [
    "labels_df = pd.read_csv('../Dataset/lidc-data/stage1_labels.csv', index_col=0)\n",
    "\n",
    "labels_df.head()"
   ]
  },
  {
   "cell_type": "code",
   "execution_count": null,
   "metadata": {
    "colab": {
     "base_uri": "https://localhost:8080/",
     "height": 907
    },
    "colab_type": "code",
    "executionInfo": {
     "elapsed": 930202,
     "status": "ok",
     "timestamp": 1593358819118,
     "user": {
      "displayName": "DIVYANSHU BHAIK",
      "photoUrl": "https://lh3.googleusercontent.com/a-/AOh14Gi1vml2D36-XRNdiec3_IPIhcoGFtn36xsXJyiN=s64",
      "userId": "01508561723939667345"
     },
     "user_tz": -330
    },
    "id": "8UezS5LGiE9n",
    "outputId": "7d2fed02-9d6e-4300-8221-6219ef52697e"
   },
   "outputs": [],
   "source": [
    "for patient in patients[:1]:\n",
    "    label = labels_df.at[(patient, 'cancer')]\n",
    "    path = INPUT_FOLDER +'/'+ patient\n",
    "    ds = []\n",
    "    for s in os.listdir(path):\n",
    "        if( s != '.DS_Store'):\n",
    "            ds.append(s)\n",
    "    slices = [dicom.read_file((path + '/' + s),force=True) for s in ds]\n",
    "    #slices.sort(key = lambda x: int(x.ImagePositionPatient[2]))\n",
    "    print(len(slices),label)\n",
    "    print(slices[0])\n",
    "    print(slices[0].PatientID)\n",
    "    print('len of ds is ',len(ds))\n",
    "    print(labels_df.at[(str(slices[0].PatientID), 'cancer')])\n"
   ]
  },
  {
   "cell_type": "code",
   "execution_count": null,
   "metadata": {
    "colab": {
     "base_uri": "https://localhost:8080/",
     "height": 1000
    },
    "colab_type": "code",
    "executionInfo": {
     "elapsed": 4247061,
     "status": "error",
     "timestamp": 1593373561318,
     "user": {
      "displayName": "DIVYANSHU BHAIK",
      "photoUrl": "https://lh3.googleusercontent.com/a-/AOh14Gi1vml2D36-XRNdiec3_IPIhcoGFtn36xsXJyiN=s64",
      "userId": "01508561723939667345"
     },
     "user_tz": -330
    },
    "id": "bKaC8yXciE9r",
    "outputId": "3513c81d-2b1a-4a69-ddfe-b495b2065cd4",
    "scrolled": true
   },
   "outputs": [],
   "source": [
    "#Встановити ліміт\n",
    "limit = 4000;\n",
    "# У нашій ситуації, фотографій багато, тому ми робимо ліміт,\n",
    "# щоб нам вистачило ресурсів на конвертацію та зберігання даних\n",
    "\n",
    "data = []\n",
    "labels = []\n",
    "print('*'*30)\n",
    "print(\"data in converting.......\")\n",
    "print('*'*30)\n",
    "j = 1\n",
    "for patient in patients:\n",
    "    if len(labels) > limit:\n",
    "        print(\"saving data\")\n",
    "        np.save(\"../Dataset/data/data_{}.npy\".format(j) ,np.array(data))\n",
    "        np.save(\"../Dataset/data/labels_{}.npy\".format(j) ,np.array(labels))\n",
    "        data = []\n",
    "        labels = []\n",
    "    test_patient_scans = load_scan(INPUT_FOLDER +'/'+ patients[j])\n",
    "    test_patient_images = get_pixels_hu(test_patient_scans)\n",
    "    path = INPUT_FOLDER +'/'+ patient\n",
    "    ds = []\n",
    "    for s in os.listdir(path):\n",
    "        if( s != '.DS_Store'):\n",
    "            ds.append(s)\n",
    "    slices = [dicom.read_file((path + '/' + s),force=True) for s in ds]\n",
    "    print(\"patient_number_{}\".format(j))\n",
    "    i = 0\n",
    "    for s in slices:\n",
    "        try:\n",
    "          i += 1\n",
    "          if i in range(0,50):\n",
    "            continue\n",
    "          #taking 100 slices from each patient\n",
    "          elif i in range(50, 150):\n",
    "            img = test_patient_images[i]\n",
    "            seg_img = seperate_lungs(img)[0]\n",
    "            new_img = cv2.resize(seg_img, (224, 224))\n",
    "            new_img = np.expand_dims(new_img,axis = -1)\n",
    "            label = labels_df.at[(str(s.PatientID), 'cancer')]\n",
    "            data.append(new_img)\n",
    "            labels.append(label)\n",
    "        \n",
    "            print(\"converted image is : \"+str(len(labels)))\n",
    "          else:\n",
    "            break\n",
    "        except IndexError:\n",
    "          continue\n",
    "    j += 1\n",
    "\n",
    "print(\"Done\")"
   ]
  },
  {
   "cell_type": "code",
   "execution_count": null,
   "metadata": {
    "colab": {
     "base_uri": "https://localhost:8080/",
     "height": 50
    },
    "colab_type": "code",
    "executionInfo": {
     "elapsed": 3175,
     "status": "ok",
     "timestamp": 1593373579733,
     "user": {
      "displayName": "DIVYANSHU BHAIK",
      "photoUrl": "https://lh3.googleusercontent.com/a-/AOh14Gi1vml2D36-XRNdiec3_IPIhcoGFtn36xsXJyiN=s64",
      "userId": "01508561723939667345"
     },
     "user_tz": -330
    },
    "id": "JpdSFbJ6iE9v",
    "outputId": "e0e45aa3-01ef-42e5-8dc7-555ebf8d72a7"
   },
   "outputs": [],
   "source": [
    "print(len(data))\n",
    "print(len(labels))"
   ]
  },
  {
   "cell_type": "code",
   "execution_count": null,
   "metadata": {
    "colab": {
     "base_uri": "https://localhost:8080/",
     "height": 34
    },
    "colab_type": "code",
    "executionInfo": {
     "elapsed": 4297,
     "status": "ok",
     "timestamp": 1593373693855,
     "user": {
      "displayName": "DIVYANSHU BHAIK",
      "photoUrl": "https://lh3.googleusercontent.com/a-/AOh14Gi1vml2D36-XRNdiec3_IPIhcoGFtn36xsXJyiN=s64",
      "userId": "01508561723939667345"
     },
     "user_tz": -330
    },
    "id": "Hjh9NyBYBzo0",
    "outputId": "469cfb82-cb49-4d38-f5c0-347feec12f76"
   },
   "outputs": [],
   "source": [
    "data_new = np.array(data)\n",
    "data_new.shape"
   ]
  },
  {
   "cell_type": "code",
   "execution_count": null,
   "metadata": {
    "colab": {
     "base_uri": "https://localhost:8080/",
     "height": 34
    },
    "colab_type": "code",
    "executionInfo": {
     "elapsed": 1764,
     "status": "ok",
     "timestamp": 1593373785288,
     "user": {
      "displayName": "DIVYANSHU BHAIK",
      "photoUrl": "https://lh3.googleusercontent.com/a-/AOh14Gi1vml2D36-XRNdiec3_IPIhcoGFtn36xsXJyiN=s64",
      "userId": "01508561723939667345"
     },
     "user_tz": -330
    },
    "id": "k-4Qk6DHB6LP",
    "outputId": "6d0487a2-1953-4d2f-ec91-d6e433f1af9e"
   },
   "outputs": [],
   "source": [
    "labels_new = np.array(labels)\n",
    "labels_new.shape"
   ]
  },
  {
   "cell_type": "code",
   "execution_count": null,
   "metadata": {
    "colab": {
     "base_uri": "https://localhost:8080/",
     "height": 50
    },
    "colab_type": "code",
    "executionInfo": {
     "elapsed": 27399,
     "status": "ok",
     "timestamp": 1593373816987,
     "user": {
      "displayName": "DIVYANSHU BHAIK",
      "photoUrl": "https://lh3.googleusercontent.com/a-/AOh14Gi1vml2D36-XRNdiec3_IPIhcoGFtn36xsXJyiN=s64",
      "userId": "01508561723939667345"
     },
     "user_tz": -330
    },
    "id": "4LXYgkbAhydB",
    "outputId": "4737baf1-fe53-46e5-80e4-2c2dd5f37511"
   },
   "outputs": [],
   "source": [
    "from numpy import save\n",
    "print(\"saving data\")\n",
    "save(\"../Dataset/data/data_set.npy\",data_new)\n",
    "print(\"saving labels\")\n",
    "save(\"../Dataset/data/labels_set.npy\",labels_new)"
   ]
  },
  {
   "cell_type": "code",
   "execution_count": null,
   "metadata": {},
   "outputs": [],
   "source": []
  }
 ],
 "metadata": {
  "accelerator": "GPU",
  "colab": {
   "collapsed_sections": [],
   "name": "lung_cancer.ipynb",
   "provenance": []
  },
  "kernelspec": {
   "display_name": "Python 3 (ipykernel)",
   "language": "python",
   "name": "python3"
  },
  "language_info": {
   "codemirror_mode": {
    "name": "ipython",
    "version": 3
   },
   "file_extension": ".py",
   "mimetype": "text/x-python",
   "name": "python",
   "nbconvert_exporter": "python",
   "pygments_lexer": "ipython3",
   "version": "3.6.13"
  }
 },
 "nbformat": 4,
 "nbformat_minor": 1
}
